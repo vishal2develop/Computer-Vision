{
 "cells": [
  {
   "cell_type": "markdown",
   "metadata": {},
   "source": [
    "## Face & Eye Detection using HAAR Cascade Classifiers"
   ]
  },
  {
   "cell_type": "markdown",
   "metadata": {},
   "source": [
    "Cascade Classifier Procedure:\n",
    "# 1. Load Classifer\n",
    "# 2. Pass Image to Classifer\n",
    "# 3. Get location or ROI for detected objects\n",
    "# 4. Draw rectangle over detected objects"
   ]
  },
  {
   "cell_type": "code",
   "execution_count": 20,
   "metadata": {
    "collapsed": true
   },
   "outputs": [],
   "source": [
    "import numpy as np\n",
    "import cv2\n",
    "#We point OpenCV's CascadeClassifier function to where our classifier (XML File Format) is stored\n",
    "face_classifier=cv2.CascadeClassifier('Haarcascades/haarcascade_frontalface_default.xml')\n",
    "\n",
    "# Load our image then convert it to grayscale\n",
    "image=cv2.imread('./images/trump.jpg')\n",
    "gray=cv2.cvtColor(image,cv2.COLOR_BGR2GRAY)\n",
    "\n",
    "# Our Classifer returns the ROI of the detected face as a tuple\n",
    "# It stores the top left and bottom right co-ordinates\n",
    "#Faces is actually an araay of ROI of many faces and not location of one face\n",
    "\n",
    "faces=face_classifier.detectMultiScale(gray,1.3,5)\n",
    "\n",
    "# When no faces are found\n",
    "\n",
    "if faces is():\n",
    "    print(\"No faces found\")\n",
    "\n",
    "# Else We itereate through our faces array and draw a rectangle over each face in faces\n",
    "for(x,y,w,h) in faces:\n",
    "    cv2.rectangle(image,(x,y),(x+w,y+h),(255,127,0),2)\n",
    "    cv2.imshow(\"Face Detection\",image)\n",
    "    cv2.waitKey(0)\n",
    "cv2.destroyAllWindows()\n",
    "\n",
    "\n",
    "\n"
   ]
  },
  {
   "cell_type": "markdown",
   "metadata": {},
   "source": [
    "# Lets combine face and eye detection\n"
   ]
  },
  {
   "cell_type": "code",
   "execution_count": 7,
   "metadata": {
    "collapsed": true
   },
   "outputs": [],
   "source": [
    "import numpy as np\n",
    "import cv2\n",
    "#load classifer\n",
    "face_classifier=cv2.CascadeClassifier('Haarcascades/haarcascade_frontalface_default.xml')\n",
    "eye_classifier=cv2.CascadeClassifier('Haarcascades/haarcascade_eye.xml')\n",
    "\n",
    "#load image and convert to grayscale\n",
    "image=cv2.imread('./images/Trump.jpg')\n",
    "gray=cv2.cvtColor(image,cv2.COLOR_BGR2GRAY)\n",
    "\n",
    "# Initialize face_classifer\n",
    "\n",
    "faces=face_classifier.detectMultiScale(gray,1.3,5)\n",
    "\n",
    "# When no faces are detected\n",
    "\n",
    "if faces is ():\n",
    "    print(\"No faces are found\")\n",
    "\n",
    "# Else iterate through our faces array and draw rectangle over each face in faces array\n",
    "for(x,y,w,h) in faces:\n",
    "    cv2.rectangle(image,(x,y),(x+w,y+h),(255,0,127),2)\n",
    "    cv2.imshow('Face detection',image)\n",
    "    cv2.waitKey(0)\n",
    "    #Eye detection\n",
    "    # we crop the face in both the grayscale and color format\n",
    "    roi_gray=gray[y:y+h,x:x+w]\n",
    "    roi_color=image[y:y+h, x:x+w]\n",
    "    \n",
    "    #Initializing the eye classifier\n",
    "    eyes=eye_classifier.detectMultiScale(roi_gray)\n",
    "    for(ex,ey,ew,eh) in eyes:\n",
    "        cv2.rectangle(roi_color,(ex,ey),(ex+ew,ey+eh),(127,248,102),2)\n",
    "        cv2.imshow('Eye Detection',image)\n",
    "        cv2.waitKey(0)\n",
    "cv2.destroyAllWindows()\n",
    "    "
   ]
  },
  {
   "cell_type": "markdown",
   "metadata": {},
   "source": [
    " ### Let's make a live face & eye detection, keeping the face inview at all times"
   ]
  },
  {
   "cell_type": "code",
   "execution_count": 1,
   "metadata": {},
   "outputs": [],
   "source": [
    "import cv2\n",
    "import numpy as np\n",
    "\n",
    "\n",
    "#Load Classifier\n",
    "face_classifier=cv2.CascadeClassifier('Haarcascades/haarcascade_frontalface_default.xml')\n",
    "eye_classifier=cv2.CascadeClassifier('Haarcascades/haarcascade_eye.xml')\n",
    "\n",
    "def face_detector(image,size=0.5):\n",
    "    \n",
    "    #convert image to grayscale\n",
    "    gray=cv2.cvtColor(image,cv2.COLOR_BGR2GRAY)\n",
    "    #Initialize Face_classifier\n",
    "    faces=face_classifier.detectMultiScale(gray,1.2,3)\n",
    "    \n",
    "    \n",
    "    #When no face is found\n",
    "    if faces is ():\n",
    "        \n",
    "        return image\n",
    "    \n",
    "    #Else iterate through our faces array and draw a rectangle over each face in faces array\n",
    "    #Cropping the face part only from the webcam feed\n",
    "    for(x,y,w,h) in faces:\n",
    "        x=x-50\n",
    "        w=w+50\n",
    "        y=y-50\n",
    "        h=h+50\n",
    "        cv2.rectangle(image,(x,y),(x+w,y+h),(127,0,255),2)\n",
    "        #Eye detection\n",
    "        # we crop the face in both the grayscale and color format\n",
    "        roi_gray=gray[y:y+h, x:x+w]\n",
    "        roi_color=image[y:y+h, x:x+w]\n",
    "        eyes=eye_classifier.detectMultiScale(roi_gray)\n",
    "        \n",
    "        for(ex,ey,ew,eh) in eyes:\n",
    "            cv2.rectangle(roi_color,(ex,ey),(ex+ew,ey+eh),(0,0,255),2)\n",
    "    \n",
    "    \n",
    "    roi_color=cv2.flip(roi_color,1)\n",
    "    return roi_color\n",
    "\n",
    "cap=cv2.VideoCapture(0)\n",
    "\n",
    "while True:\n",
    "    ret,frame=cap.read()\n",
    "    cv2.imshow('Our Face Extractor',face_detector(frame))\n",
    "    if cv2.waitKey(33)== ord('a'):\n",
    "        break\n",
    "cap.release()\n",
    "cv2.destroyAllWindows()\n",
    "\n",
    "    \n",
    "    "
   ]
  },
  {
   "cell_type": "markdown",
   "metadata": {},
   "source": [
    "### Tuning Cascade Classifiers\n",
    "\n",
    "*ourClassifier*.**detectMultiScale**(input image, **Scale Factor** , **Min Neighbors**)\n",
    "\n",
    "- **Scale Factor**\n",
    "Specifies how much we reduce the image size each time we scale. E.g. in face detection we typically use 1.3. This means we reduce the image by 30% each time it’s scaled. Smaller values, like 1.05 will take longer to compute, but will increase the rate of detection.\n",
    "\n",
    "\n",
    "\n",
    "- **Min Neighbors**\n",
    "Specifies the number of neighbors each potential window should have in order to consider it a positive detection. Typically set between 3-6. \n",
    "It acts as sensitivity setting, low values will sometimes detect multiples faces over a single face. High values will ensure less false positives, but you may miss some faces.  \n"
   ]
  },
  {
   "cell_type": "code",
   "execution_count": null,
   "metadata": {
    "collapsed": true
   },
   "outputs": [],
   "source": []
  }
 ],
 "metadata": {
  "kernelspec": {
   "display_name": "Python 3",
   "language": "python",
   "name": "python3"
  },
  "language_info": {
   "codemirror_mode": {
    "name": "ipython",
    "version": 3
   },
   "file_extension": ".py",
   "mimetype": "text/x-python",
   "name": "python",
   "nbconvert_exporter": "python",
   "pygments_lexer": "ipython3",
   "version": "3.6.3"
  }
 },
 "nbformat": 4,
 "nbformat_minor": 2
}
